{
 "cells": [
  {
   "cell_type": "markdown",
   "metadata": {},
   "source": [
    "### Do FastSLAM"
   ]
  },
  {
   "cell_type": "code",
   "execution_count": 1,
   "metadata": {},
   "outputs": [],
   "source": [
    "import numpy as np\n",
    "from data_parser import data_parser\n",
    "from homie_filter import homie_filter\n",
    "import math\n",
    "import matplotlib.pyplot as plt\n",
    "%matplotlib inline\n",
    "from IPython import display\n",
    "import timeit"
   ]
  },
  {
   "cell_type": "code",
   "execution_count": 2,
   "metadata": {},
   "outputs": [],
   "source": [
    "# get data from experiment\n",
    "data_file = '../processing_read_control/comm_trial_52_w_vis.txt'\n",
    "my_parser = data_parser(data_file, verbose=0)\n",
    "sense_data = my_parser.get_sense_data()\n",
    "move_data = my_parser.get_move_data()\n",
    "# print(len(sense_data['time']))\n",
    "# print('Range sensing data keys: ')\n",
    "# print(sense_data.keys())\n",
    "# print('')\n",
    "# print('Rotary encoder number of clicks data keys:')\n",
    "# print(move_data.keys())\n",
    "# print('')\n",
    "# print('Positive wheel counts ---> forward direction rotation')\n",
    "# print('Negative wheel counts ---> backward direction rotation')"
   ]
  },
  {
   "cell_type": "markdown",
   "metadata": {},
   "source": [
    "#### do iterative fastSLAM and update particles in a loop"
   ]
  },
  {
   "cell_type": "code",
   "execution_count": 3,
   "metadata": {},
   "outputs": [],
   "source": [
    "num_particles = 500\n",
    "start_x = 0\n",
    "start_y = 0\n",
    "start_theta = 0\n",
    "my_filter = homie_filter(num_particles, start_x, start_y, start_theta)\n",
    "# fig = plt.figure(figsize=(10,10))\n",
    "for i in range(len(sense_data['time'])):\n",
    "    tic = timeit.default_timer()\n",
    "    # move homies\n",
    "    l_cnt = move_data['l_cnt'][i]\n",
    "    r_cnt = move_data['r_cnt'][i]\n",
    "    if i == 0:\n",
    "        del_t = 0.183\n",
    "    else:\n",
    "        del_t = (move_data['time'][i] - move_data['time'][i-1])/1000\n",
    "#     print(l_cnt, r_cnt)\n",
    "    my_filter.move_particles(l_cnt, r_cnt, del_t) ## correct this later when wires are crossed back\n",
    "#     for homie in my_filter._homies:\n",
    "#         plt.scatter(homie._x, homie._y, c='r')\n",
    "#         plt.xlim(-5000,5000)\n",
    "#         plt.ylim(-7000,7000)\n",
    "#     plt.title(str(sense_data['time'][i]))\n",
    "#     display.clear_output(wait=True)\n",
    "#     display.display(plt.gcf())\n",
    "    # update homie weights\n",
    "    front = sense_data['front'][i]\n",
    "    left = sense_data['left'][i]\n",
    "    back = sense_data['back'][i]\n",
    "    right = sense_data['right'][i]\n",
    "#     print(front, left, back, right)\n",
    "    my_filter.update_particle_weights(front, left, back, right)\n",
    "    my_filter.resample_homies()\n",
    "#     print(str(sense_data['time'][i])+': Finished loop '+str(i+1)+' of '+str(len(sense_data['time'])) + ' | Time taken: '+str(timeit.default_timer() - tic)+' seconds')\n",
    "#     print(str(i)+' of '+str(len(sense_data['time']))+ '| '+str(my_filter.get_most_landmarks())+' max landmarks')"
   ]
  },
  {
   "cell_type": "code",
   "execution_count": 4,
   "metadata": {},
   "outputs": [],
   "source": [
    "# get data from experiment\n",
    "data_file = '../processing_read_control/comm_trial_50_w_vis.txt'\n",
    "my_parser = data_parser(data_file, verbose=0)\n",
    "sense_data = my_parser.get_sense_data()\n",
    "move_data = my_parser.get_move_data()\n",
    "# print(len(sense_data['time']))\n",
    "# print('Range sensing data keys: ')\n",
    "# print(sense_data.keys())\n",
    "# print('')\n",
    "# print('Rotary encoder number of clicks data keys:')\n",
    "# print(move_data.keys())\n",
    "# print('')\n",
    "# print('Positive wheel counts ---> forward direction rotation')\n",
    "# print('Negative wheel counts ---> backward direction rotation')"
   ]
  },
  {
   "cell_type": "code",
   "execution_count": 5,
   "metadata": {},
   "outputs": [],
   "source": [
    "num_particles = 500\n",
    "start_x = 0\n",
    "start_y = 0\n",
    "start_theta = 0\n",
    "my_filter_2 = homie_filter(num_particles, start_x, start_y, start_theta)\n",
    "# fig = plt.figure(figsize=(10,10))\n",
    "for i in range(len(sense_data['time'])):\n",
    "    tic = timeit.default_timer()\n",
    "    # move homies\n",
    "    l_cnt = move_data['l_cnt'][i]\n",
    "    r_cnt = move_data['r_cnt'][i]\n",
    "    if i == 0:\n",
    "        del_t = 0.183\n",
    "    else:\n",
    "        del_t = (move_data['time'][i] - move_data['time'][i-1])/1000\n",
    "#     print(l_cnt, r_cnt)\n",
    "    my_filter_2.move_particles(l_cnt, r_cnt, del_t) ## correct this later when wires are crossed back\n",
    "#     for homie in my_filter._homies:\n",
    "#         plt.scatter(homie._x, homie._y, c='r')\n",
    "#         plt.xlim(-5000,5000)\n",
    "#         plt.ylim(-7000,7000)\n",
    "#     plt.title(str(sense_data['time'][i]))\n",
    "#     display.clear_output(wait=True)\n",
    "#     display.display(plt.gcf())\n",
    "    # update homie weights\n",
    "    front = sense_data['front'][i]\n",
    "    left = sense_data['left'][i]\n",
    "    back = sense_data['back'][i]\n",
    "    right = sense_data['right'][i]\n",
    "#     print(front, left, back, right)\n",
    "    my_filter_2.update_particle_weights(front, left, back, right)\n",
    "    my_filter_2.resample_homies()\n",
    "#     print(str(sense_data['time'][i])+': Finished loop '+str(i+1)+' of '+str(len(sense_data['time'])) + ' | Time taken: '+str(timeit.default_timer() - tic)+' seconds')\n",
    "#     print(str(i)+' of '+str(len(sense_data['time']))+ '| '+str(my_filter.get_most_landmarks())+' max landmarks')"
   ]
  },
  {
   "cell_type": "code",
   "execution_count": 6,
   "metadata": {},
   "outputs": [],
   "source": [
    "# get data from experiment\n",
    "data_file = '../processing_read_control/comm_trial_51_w_vis.txt'\n",
    "my_parser = data_parser(data_file, verbose=0)\n",
    "sense_data = my_parser.get_sense_data()\n",
    "move_data = my_parser.get_move_data()\n",
    "# print(len(sense_data['time']))\n",
    "# print('Range sensing data keys: ')\n",
    "# print(sense_data.keys())\n",
    "# print('')\n",
    "# print('Rotary encoder number of clicks data keys:')\n",
    "# print(move_data.keys())\n",
    "# print('')\n",
    "# print('Positive wheel counts ---> forward direction rotation')\n",
    "# print('Negative wheel counts ---> backward direction rotation')"
   ]
  },
  {
   "cell_type": "code",
   "execution_count": 7,
   "metadata": {},
   "outputs": [],
   "source": [
    "num_particles = 500\n",
    "start_x = 0\n",
    "start_y = 0\n",
    "start_theta = 3.14159\n",
    "my_filter_3 = homie_filter(num_particles, start_x, start_y, start_theta)\n",
    "# fig = plt.figure(figsize=(10,10))\n",
    "for i in range(len(sense_data['time'])):\n",
    "    tic = timeit.default_timer()\n",
    "    # move homies\n",
    "    l_cnt = move_data['l_cnt'][i]\n",
    "    r_cnt = move_data['r_cnt'][i]\n",
    "    if i == 0:\n",
    "        del_t = 0.183\n",
    "    else:\n",
    "        del_t = (move_data['time'][i] - move_data['time'][i-1])/1000\n",
    "#     print(l_cnt, r_cnt)\n",
    "    my_filter_3.move_particles(l_cnt, r_cnt, del_t) ## correct this later when wires are crossed back\n",
    "#     for homie in my_filter._homies:\n",
    "#         plt.scatter(homie._x, homie._y, c='r')\n",
    "#         plt.xlim(-5000,5000)\n",
    "#         plt.ylim(-7000,7000)\n",
    "#     plt.title(str(sense_data['time'][i]))\n",
    "#     display.clear_output(wait=True)\n",
    "#     display.display(plt.gcf())\n",
    "    # update homie weights\n",
    "    front = sense_data['front'][i]\n",
    "    left = sense_data['left'][i]\n",
    "    back = sense_data['back'][i]\n",
    "    right = sense_data['right'][i]\n",
    "#     print(front, left, back, right)\n",
    "    my_filter_3.update_particle_weights(front, left, back, right)\n",
    "    my_filter_3.resample_homies()\n",
    "#     print(str(sense_data['time'][i])+': Finished loop '+str(i+1)+' of '+str(len(sense_data['time'])) + ' | Time taken: '+str(timeit.default_timer() - tic)+' seconds')\n",
    "#     print(str(i)+' of '+str(len(sense_data['time']))+ '| '+str(my_filter.get_most_landmarks())+' max landmarks')"
   ]
  },
  {
   "cell_type": "code",
   "execution_count": 8,
   "metadata": {},
   "outputs": [
    {
     "data": {
      "image/png": "[encoded data removed]",
      "text/plain": [
       "<Figure size 432x288 with 1 Axes>"
      ]
     },
     "metadata": {
      "needs_background": "light"
     },
     "output_type": "display_data"
    }
   ],
   "source": [
    "for homie in my_filter._homies:\n",
    "    mus = np.array(homie._land_mu)\n",
    "    plt.scatter(mus[:,0], mus[:,1], c='g')\n",
    "for i in range(len(my_filter._xs)):\n",
    "    this_x = np.mean(my_filter._xs[i])\n",
    "    this_y = np.mean(my_filter._ys[i])\n",
    "    plt.scatter(this_x, this_y, c='r')"
   ]
  },
  {
   "cell_type": "code",
   "execution_count": 9,
   "metadata": {},
   "outputs": [
    {
     "data": {
      "image/png": "[encoded data removed]",
      "text/plain": [
       "<Figure size 432x288 with 1 Axes>"
      ]
     },
     "metadata": {
      "needs_background": "light"
     },
     "output_type": "display_data"
    }
   ],
   "source": [
    "for homie in my_filter_2._homies:\n",
    "    mus = np.array(homie._land_mu)\n",
    "    plt.scatter(mus[:,0], mus[:,1], c='g')\n",
    "for i in range(len(my_filter_2._xs)):\n",
    "    this_x = np.mean(my_filter_2._xs[i])\n",
    "    this_y = np.mean(my_filter_2._ys[i])\n",
    "    plt.scatter(this_x, this_y, c='r')"
   ]
  },
  {
   "cell_type": "code",
   "execution_count": 10,
   "metadata": {},
   "outputs": [
    {
     "data": {
      "image/png": "[encoded data removed]",
      "text/plain": [
       "<Figure size 432x288 with 1 Axes>"
      ]
     },
     "metadata": {
      "needs_background": "light"
     },
     "output_type": "display_data"
    }
   ],
   "source": [
    "for homie in my_filter_3._homies:\n",
    "    mus = np.array(homie._land_mu)\n",
    "    plt.scatter(mus[:,0], mus[:,1], c='g')\n",
    "for i in range(len(my_filter_3._xs)):\n",
    "    this_x = np.mean(my_filter_3._xs[i])\n",
    "    this_y = np.mean(my_filter_3._ys[i])\n",
    "    plt.scatter(this_x, this_y, c='r')"
   ]
  }
 ],
 "metadata": {
  "kernelspec": {
   "display_name": "Python 3",
   "language": "python",
   "name": "python3"
  },
  "language_info": {
   "codemirror_mode": {
    "name": "ipython",
    "version": 3
   },
   "file_extension": ".py",
   "mimetype": "text/x-python",
   "name": "python",
   "nbconvert_exporter": "python",
   "pygments_lexer": "ipython3",
   "version": "3.6.9"
  }
 },
 "nbformat": 4,
 "nbformat_minor": 4
}
